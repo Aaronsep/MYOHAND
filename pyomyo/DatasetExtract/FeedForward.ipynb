{
 "cells": [
  {
   "cell_type": "code",
   "execution_count": 63,
   "metadata": {},
   "outputs": [],
   "source": [
    "import numpy as np\n",
    "from tensorflow.keras.models import Sequential\n",
    "from tensorflow.keras.layers import Dense\n",
    "from tensorflow.keras.utils import to_categorical\n",
    "import pandas as pd\n",
    "import matplotlib.pyplot as plt\n",
    "import seaborn as sns\n",
    "from sklearn.model_selection import train_test_split\n",
    "from sklearn.metrics import classification_report, confusion_matrix\n",
    "\n"
   ]
  },
  {
   "cell_type": "code",
   "execution_count": 64,
   "metadata": {},
   "outputs": [],
   "source": [
    "filepath = \"MyoDataset.csv\"\n",
    "df = pd.read_csv(filepath)\n",
    "\n",
    "df = df.iloc[:, :9]"
   ]
  },
  {
   "cell_type": "code",
   "execution_count": 65,
   "metadata": {},
   "outputs": [
    {
     "name": "stdout",
     "output_type": "stream",
     "text": [
      "(1989, 8)\n",
      "(1989, 4)\n",
      "[[1. 0. 0. 0.]\n",
      " [1. 0. 0. 0.]\n",
      " [1. 0. 0. 0.]\n",
      " ...\n",
      " [0. 0. 0. 1.]\n",
      " [0. 0. 0. 1.]\n",
      " [0. 0. 0. 1.]]\n"
     ]
    }
   ],
   "source": [
    "X = df.iloc[:,:-1].values  # Entradas (4 columnas)\n",
    "y = df.iloc[:,-1].values\n",
    "y = to_categorical(y, num_classes=4)\n",
    "# Eliminar la primera columna\n",
    "#y = y[:, 1:]\n",
    "print(X.shape)  # Debería ser (n_samples, 4)\n",
    "print(y.shape) \n",
    "print(y)\n"
   ]
  },
  {
   "cell_type": "code",
   "execution_count": 66,
   "metadata": {},
   "outputs": [],
   "source": [
    "# Identificar las filas en las que y es igual a [0, 0, 0, 0]\n",
    "\n",
    "#filas_a_eliminar = np.all(y == 0, axis=1)\n",
    "\n",
    "# Eliminar esas filas de x y y\n",
    "#X = X[~filas_a_eliminar]\n",
    "#y = y[~filas_a_eliminar]\n",
    "\n",
    "#print(X.shape)  # Verifica el nuevo tamaño del arreglo x\n",
    "#print(y.shape)  # Verifica el nuevo tamaño del arreglo y"
   ]
  },
  {
   "cell_type": "code",
   "execution_count": 67,
   "metadata": {},
   "outputs": [
    {
     "name": "stdout",
     "output_type": "stream",
     "text": [
      "Datos normalizados:\n",
      "[[0.03323558 0.03812317 0.08895406 ... 0.13685239 0.18084066 0.05278592]\n",
      " [0.03616813 0.04105572 0.08895406 ... 0.1427175  0.18572825 0.05474096]\n",
      " [0.03616813 0.03910068 0.07526882 ... 0.14467253 0.19061584 0.05083089]\n",
      " ...\n",
      " [0.17595308 0.12121212 0.2111437  ... 0.06256109 0.04496579 0.08895406]\n",
      " [0.16813294 0.10361681 0.20918866 ... 0.06744868 0.04789834 0.08406647]\n",
      " [0.18475073 0.11045943 0.20918866 ... 0.07331378 0.05278592 0.09090909]]\n"
     ]
    }
   ],
   "source": [
    "import numpy as np\n",
    "from sklearn.preprocessing import MinMaxScaler\n",
    "\n",
    "# Crear y ajustar el MinMaxScaler con el rango de Myo (0 a 1023)\n",
    "scaler = MinMaxScaler(feature_range=(0, 1))\n",
    "scaler.fit(np.array([[0] * 8, [1023] * 8]))  # Ajustar los valores extremos\n",
    "\n",
    "# Normalizar los datos de X\n",
    "X_normalized = scaler.transform(X)\n",
    "\n",
    "print(\"Datos normalizados:\")\n",
    "print(X_normalized)\n",
    "\n"
   ]
  },
  {
   "cell_type": "code",
   "execution_count": 68,
   "metadata": {},
   "outputs": [
    {
     "name": "stdout",
     "output_type": "stream",
     "text": [
      "Tamaño del conjunto de entrenamiento: (1591, 8)\n",
      "Tamaño del conjunto de prueba: (398, 8)\n"
     ]
    }
   ],
   "source": [
    "# Dividir los datos en conjuntos de entrenamiento y prueba (80% entrenamiento, 20% prueba)\n",
    "X_train, X_test, y_train, y_test = train_test_split(X_normalized, y, test_size=0.2, random_state=42)\n",
    "\n",
    "# Verifica el tamaño de los conjuntos\n",
    "print(\"Tamaño del conjunto de entrenamiento:\", X_train.shape)\n",
    "print(\"Tamaño del conjunto de prueba:\", X_test.shape)\n"
   ]
  },
  {
   "cell_type": "code",
   "execution_count": 69,
   "metadata": {},
   "outputs": [
    {
     "name": "stderr",
     "output_type": "stream",
     "text": [
      "c:\\Users\\winte\\anaconda3\\envs\\my_env\\Lib\\site-packages\\keras\\src\\layers\\core\\dense.py:87: UserWarning: Do not pass an `input_shape`/`input_dim` argument to a layer. When using Sequential models, prefer using an `Input(shape)` object as the first layer in the model instead.\n",
      "  super().__init__(activity_regularizer=activity_regularizer, **kwargs)\n"
     ]
    },
    {
     "data": {
      "text/html": [
       "<pre style=\"white-space:pre;overflow-x:auto;line-height:normal;font-family:Menlo,'DejaVu Sans Mono',consolas,'Courier New',monospace\"><span style=\"font-weight: bold\">Model: \"sequential_4\"</span>\n",
       "</pre>\n"
      ],
      "text/plain": [
       "\u001b[1mModel: \"sequential_4\"\u001b[0m\n"
      ]
     },
     "metadata": {},
     "output_type": "display_data"
    },
    {
     "data": {
      "text/html": [
       "<pre style=\"white-space:pre;overflow-x:auto;line-height:normal;font-family:Menlo,'DejaVu Sans Mono',consolas,'Courier New',monospace\">┏━━━━━━━━━━━━━━━━━━━━━━━━━━━━━━━━━┳━━━━━━━━━━━━━━━━━━━━━━━━┳━━━━━━━━━━━━━━━┓\n",
       "┃<span style=\"font-weight: bold\"> Layer (type)                    </span>┃<span style=\"font-weight: bold\"> Output Shape           </span>┃<span style=\"font-weight: bold\">       Param # </span>┃\n",
       "┡━━━━━━━━━━━━━━━━━━━━━━━━━━━━━━━━━╇━━━━━━━━━━━━━━━━━━━━━━━━╇━━━━━━━━━━━━━━━┩\n",
       "│ dense_12 (<span style=\"color: #0087ff; text-decoration-color: #0087ff\">Dense</span>)                │ (<span style=\"color: #00d7ff; text-decoration-color: #00d7ff\">None</span>, <span style=\"color: #00af00; text-decoration-color: #00af00\">518</span>)            │         <span style=\"color: #00af00; text-decoration-color: #00af00\">4,662</span> │\n",
       "├─────────────────────────────────┼────────────────────────┼───────────────┤\n",
       "│ dense_13 (<span style=\"color: #0087ff; text-decoration-color: #0087ff\">Dense</span>)                │ (<span style=\"color: #00d7ff; text-decoration-color: #00d7ff\">None</span>, <span style=\"color: #00af00; text-decoration-color: #00af00\">256</span>)            │       <span style=\"color: #00af00; text-decoration-color: #00af00\">132,864</span> │\n",
       "├─────────────────────────────────┼────────────────────────┼───────────────┤\n",
       "│ dense_14 (<span style=\"color: #0087ff; text-decoration-color: #0087ff\">Dense</span>)                │ (<span style=\"color: #00d7ff; text-decoration-color: #00d7ff\">None</span>, <span style=\"color: #00af00; text-decoration-color: #00af00\">4</span>)              │         <span style=\"color: #00af00; text-decoration-color: #00af00\">1,028</span> │\n",
       "└─────────────────────────────────┴────────────────────────┴───────────────┘\n",
       "</pre>\n"
      ],
      "text/plain": [
       "┏━━━━━━━━━━━━━━━━━━━━━━━━━━━━━━━━━┳━━━━━━━━━━━━━━━━━━━━━━━━┳━━━━━━━━━━━━━━━┓\n",
       "┃\u001b[1m \u001b[0m\u001b[1mLayer (type)                   \u001b[0m\u001b[1m \u001b[0m┃\u001b[1m \u001b[0m\u001b[1mOutput Shape          \u001b[0m\u001b[1m \u001b[0m┃\u001b[1m \u001b[0m\u001b[1m      Param #\u001b[0m\u001b[1m \u001b[0m┃\n",
       "┡━━━━━━━━━━━━━━━━━━━━━━━━━━━━━━━━━╇━━━━━━━━━━━━━━━━━━━━━━━━╇━━━━━━━━━━━━━━━┩\n",
       "│ dense_12 (\u001b[38;5;33mDense\u001b[0m)                │ (\u001b[38;5;45mNone\u001b[0m, \u001b[38;5;34m518\u001b[0m)            │         \u001b[38;5;34m4,662\u001b[0m │\n",
       "├─────────────────────────────────┼────────────────────────┼───────────────┤\n",
       "│ dense_13 (\u001b[38;5;33mDense\u001b[0m)                │ (\u001b[38;5;45mNone\u001b[0m, \u001b[38;5;34m256\u001b[0m)            │       \u001b[38;5;34m132,864\u001b[0m │\n",
       "├─────────────────────────────────┼────────────────────────┼───────────────┤\n",
       "│ dense_14 (\u001b[38;5;33mDense\u001b[0m)                │ (\u001b[38;5;45mNone\u001b[0m, \u001b[38;5;34m4\u001b[0m)              │         \u001b[38;5;34m1,028\u001b[0m │\n",
       "└─────────────────────────────────┴────────────────────────┴───────────────┘\n"
      ]
     },
     "metadata": {},
     "output_type": "display_data"
    },
    {
     "data": {
      "text/html": [
       "<pre style=\"white-space:pre;overflow-x:auto;line-height:normal;font-family:Menlo,'DejaVu Sans Mono',consolas,'Courier New',monospace\"><span style=\"font-weight: bold\"> Total params: </span><span style=\"color: #00af00; text-decoration-color: #00af00\">138,554</span> (541.23 KB)\n",
       "</pre>\n"
      ],
      "text/plain": [
       "\u001b[1m Total params: \u001b[0m\u001b[38;5;34m138,554\u001b[0m (541.23 KB)\n"
      ]
     },
     "metadata": {},
     "output_type": "display_data"
    },
    {
     "data": {
      "text/html": [
       "<pre style=\"white-space:pre;overflow-x:auto;line-height:normal;font-family:Menlo,'DejaVu Sans Mono',consolas,'Courier New',monospace\"><span style=\"font-weight: bold\"> Trainable params: </span><span style=\"color: #00af00; text-decoration-color: #00af00\">138,554</span> (541.23 KB)\n",
       "</pre>\n"
      ],
      "text/plain": [
       "\u001b[1m Trainable params: \u001b[0m\u001b[38;5;34m138,554\u001b[0m (541.23 KB)\n"
      ]
     },
     "metadata": {},
     "output_type": "display_data"
    },
    {
     "data": {
      "text/html": [
       "<pre style=\"white-space:pre;overflow-x:auto;line-height:normal;font-family:Menlo,'DejaVu Sans Mono',consolas,'Courier New',monospace\"><span style=\"font-weight: bold\"> Non-trainable params: </span><span style=\"color: #00af00; text-decoration-color: #00af00\">0</span> (0.00 B)\n",
       "</pre>\n"
      ],
      "text/plain": [
       "\u001b[1m Non-trainable params: \u001b[0m\u001b[38;5;34m0\u001b[0m (0.00 B)\n"
      ]
     },
     "metadata": {},
     "output_type": "display_data"
    }
   ],
   "source": [
    "# Crear el modelo\n",
    "model = Sequential()\n",
    "\n",
    "# Capa de entrada (4 entradas) + Capa oculta\n",
    "model.add(Dense(518, input_dim=8, activation='relu'))  # 64 neuronas en la capa oculta\n",
    "model.add(Dense(256, activation='relu'))              # Capa oculta adicional\n",
    "\n",
    "# Capa de salida (4 neuronas para cada clase, usando softmax)\n",
    "model.add(Dense(4, activation='softmax'))\n",
    "\n",
    "# Compilar el modelo\n",
    "model.compile(loss='categorical_crossentropy',  # Usamos 'categorical_crossentropy' para clasificación multi-clase\n",
    "              optimizer='adam',                # Optimizador Adam\n",
    "              metrics=['accuracy'])           # Métrica de precisión\n",
    "\n",
    "# Resumen del modelo\n",
    "model.summary()"
   ]
  },
  {
   "cell_type": "code",
   "execution_count": 70,
   "metadata": {},
   "outputs": [
    {
     "name": "stdout",
     "output_type": "stream",
     "text": [
      "(1591, 8) (1591, 4)\n",
      "(398, 8) (398, 4)\n"
     ]
    }
   ],
   "source": [
    "print(X_train.shape, y_train.shape)\n",
    "print(X_test.shape, y_test.shape)\n"
   ]
  },
  {
   "cell_type": "code",
   "execution_count": 71,
   "metadata": {},
   "outputs": [
    {
     "name": "stdout",
     "output_type": "stream",
     "text": [
      "Epoch 1/50\n",
      "\u001b[1m50/50\u001b[0m \u001b[32m━━━━━━━━━━━━━━━━━━━━\u001b[0m\u001b[37m\u001b[0m \u001b[1m1s\u001b[0m 8ms/step - accuracy: 0.7183 - loss: 1.1192 - val_accuracy: 0.9925 - val_loss: 0.3210\n",
      "Epoch 2/50\n",
      "\u001b[1m50/50\u001b[0m \u001b[32m━━━━━━━━━━━━━━━━━━━━\u001b[0m\u001b[37m\u001b[0m \u001b[1m0s\u001b[0m 4ms/step - accuracy: 0.9949 - loss: 0.2153 - val_accuracy: 0.9975 - val_loss: 0.0622\n",
      "Epoch 3/50\n",
      "\u001b[1m50/50\u001b[0m \u001b[32m━━━━━━━━━━━━━━━━━━━━\u001b[0m\u001b[37m\u001b[0m \u001b[1m0s\u001b[0m 4ms/step - accuracy: 0.9982 - loss: 0.0478 - val_accuracy: 0.9950 - val_loss: 0.0332\n",
      "Epoch 4/50\n",
      "\u001b[1m50/50\u001b[0m \u001b[32m━━━━━━━━━━━━━━━━━━━━\u001b[0m\u001b[37m\u001b[0m \u001b[1m0s\u001b[0m 4ms/step - accuracy: 0.9967 - loss: 0.0283 - val_accuracy: 0.9975 - val_loss: 0.0264\n",
      "Epoch 5/50\n",
      "\u001b[1m50/50\u001b[0m \u001b[32m━━━━━━━━━━━━━━━━━━━━\u001b[0m\u001b[37m\u001b[0m \u001b[1m0s\u001b[0m 6ms/step - accuracy: 0.9993 - loss: 0.0218 - val_accuracy: 0.9975 - val_loss: 0.0190\n",
      "Epoch 6/50\n",
      "\u001b[1m50/50\u001b[0m \u001b[32m━━━━━━━━━━━━━━━━━━━━\u001b[0m\u001b[37m\u001b[0m \u001b[1m0s\u001b[0m 4ms/step - accuracy: 0.9998 - loss: 0.0130 - val_accuracy: 0.9975 - val_loss: 0.0116\n",
      "Epoch 7/50\n",
      "\u001b[1m50/50\u001b[0m \u001b[32m━━━━━━━━━━━━━━━━━━━━\u001b[0m\u001b[37m\u001b[0m \u001b[1m0s\u001b[0m 8ms/step - accuracy: 0.9990 - loss: 0.0088 - val_accuracy: 0.9975 - val_loss: 0.0119\n",
      "Epoch 8/50\n",
      "\u001b[1m50/50\u001b[0m \u001b[32m━━━━━━━━━━━━━━━━━━━━\u001b[0m\u001b[37m\u001b[0m \u001b[1m0s\u001b[0m 5ms/step - accuracy: 0.9978 - loss: 0.0106 - val_accuracy: 0.9975 - val_loss: 0.0076\n",
      "Epoch 9/50\n",
      "\u001b[1m50/50\u001b[0m \u001b[32m━━━━━━━━━━━━━━━━━━━━\u001b[0m\u001b[37m\u001b[0m \u001b[1m0s\u001b[0m 4ms/step - accuracy: 0.9983 - loss: 0.0086 - val_accuracy: 0.9975 - val_loss: 0.0071\n",
      "Epoch 10/50\n",
      "\u001b[1m50/50\u001b[0m \u001b[32m━━━━━━━━━━━━━━━━━━━━\u001b[0m\u001b[37m\u001b[0m \u001b[1m0s\u001b[0m 4ms/step - accuracy: 0.9999 - loss: 0.0056 - val_accuracy: 0.9975 - val_loss: 0.0067\n",
      "Epoch 11/50\n",
      "\u001b[1m50/50\u001b[0m \u001b[32m━━━━━━━━━━━━━━━━━━━━\u001b[0m\u001b[37m\u001b[0m \u001b[1m0s\u001b[0m 4ms/step - accuracy: 0.9984 - loss: 0.0073 - val_accuracy: 1.0000 - val_loss: 0.0054\n",
      "Epoch 12/50\n",
      "\u001b[1m50/50\u001b[0m \u001b[32m━━━━━━━━━━━━━━━━━━━━\u001b[0m\u001b[37m\u001b[0m \u001b[1m0s\u001b[0m 6ms/step - accuracy: 0.9985 - loss: 0.0065 - val_accuracy: 1.0000 - val_loss: 0.0070\n",
      "Epoch 13/50\n",
      "\u001b[1m50/50\u001b[0m \u001b[32m━━━━━━━━━━━━━━━━━━━━\u001b[0m\u001b[37m\u001b[0m \u001b[1m0s\u001b[0m 4ms/step - accuracy: 0.9984 - loss: 0.0069 - val_accuracy: 0.9975 - val_loss: 0.0066\n",
      "Epoch 14/50\n",
      "\u001b[1m50/50\u001b[0m \u001b[32m━━━━━━━━━━━━━━━━━━━━\u001b[0m\u001b[37m\u001b[0m \u001b[1m0s\u001b[0m 6ms/step - accuracy: 0.9995 - loss: 0.0031 - val_accuracy: 1.0000 - val_loss: 0.0033\n",
      "Epoch 15/50\n",
      "\u001b[1m50/50\u001b[0m \u001b[32m━━━━━━━━━━━━━━━━━━━━\u001b[0m\u001b[37m\u001b[0m \u001b[1m0s\u001b[0m 5ms/step - accuracy: 0.9997 - loss: 0.0024 - val_accuracy: 1.0000 - val_loss: 0.0056\n",
      "Epoch 16/50\n",
      "\u001b[1m50/50\u001b[0m \u001b[32m━━━━━━━━━━━━━━━━━━━━\u001b[0m\u001b[37m\u001b[0m \u001b[1m0s\u001b[0m 4ms/step - accuracy: 0.9987 - loss: 0.0040 - val_accuracy: 1.0000 - val_loss: 0.0037\n",
      "Epoch 17/50\n",
      "\u001b[1m50/50\u001b[0m \u001b[32m━━━━━━━━━━━━━━━━━━━━\u001b[0m\u001b[37m\u001b[0m \u001b[1m0s\u001b[0m 4ms/step - accuracy: 0.9986 - loss: 0.0042 - val_accuracy: 1.0000 - val_loss: 0.0034\n",
      "Epoch 18/50\n",
      "\u001b[1m50/50\u001b[0m \u001b[32m━━━━━━━━━━━━━━━━━━━━\u001b[0m\u001b[37m\u001b[0m \u001b[1m0s\u001b[0m 4ms/step - accuracy: 0.9987 - loss: 0.0053 - val_accuracy: 1.0000 - val_loss: 0.0025\n",
      "Epoch 19/50\n",
      "\u001b[1m50/50\u001b[0m \u001b[32m━━━━━━━━━━━━━━━━━━━━\u001b[0m\u001b[37m\u001b[0m \u001b[1m0s\u001b[0m 4ms/step - accuracy: 1.0000 - loss: 0.0020 - val_accuracy: 1.0000 - val_loss: 0.0023\n",
      "Epoch 20/50\n",
      "\u001b[1m50/50\u001b[0m \u001b[32m━━━━━━━━━━━━━━━━━━━━\u001b[0m\u001b[37m\u001b[0m \u001b[1m0s\u001b[0m 5ms/step - accuracy: 1.0000 - loss: 0.0020 - val_accuracy: 1.0000 - val_loss: 0.0029\n",
      "Epoch 21/50\n",
      "\u001b[1m50/50\u001b[0m \u001b[32m━━━━━━━━━━━━━━━━━━━━\u001b[0m\u001b[37m\u001b[0m \u001b[1m0s\u001b[0m 5ms/step - accuracy: 0.9980 - loss: 0.0040 - val_accuracy: 1.0000 - val_loss: 0.0025\n",
      "Epoch 22/50\n",
      "\u001b[1m50/50\u001b[0m \u001b[32m━━━━━━━━━━━━━━━━━━━━\u001b[0m\u001b[37m\u001b[0m \u001b[1m0s\u001b[0m 9ms/step - accuracy: 1.0000 - loss: 0.0021 - val_accuracy: 1.0000 - val_loss: 0.0028\n",
      "Epoch 23/50\n",
      "\u001b[1m50/50\u001b[0m \u001b[32m━━━━━━━━━━━━━━━━━━━━\u001b[0m\u001b[37m\u001b[0m \u001b[1m0s\u001b[0m 7ms/step - accuracy: 1.0000 - loss: 0.0016 - val_accuracy: 1.0000 - val_loss: 0.0017\n",
      "Epoch 24/50\n",
      "\u001b[1m50/50\u001b[0m \u001b[32m━━━━━━━━━━━━━━━━━━━━\u001b[0m\u001b[37m\u001b[0m \u001b[1m0s\u001b[0m 7ms/step - accuracy: 1.0000 - loss: 0.0014 - val_accuracy: 0.9975 - val_loss: 0.0027\n",
      "Epoch 25/50\n",
      "\u001b[1m50/50\u001b[0m \u001b[32m━━━━━━━━━━━━━━━━━━━━\u001b[0m\u001b[37m\u001b[0m \u001b[1m0s\u001b[0m 5ms/step - accuracy: 0.9998 - loss: 0.0014 - val_accuracy: 1.0000 - val_loss: 0.0018\n",
      "Epoch 26/50\n",
      "\u001b[1m50/50\u001b[0m \u001b[32m━━━━━━━━━━━━━━━━━━━━\u001b[0m\u001b[37m\u001b[0m \u001b[1m0s\u001b[0m 4ms/step - accuracy: 1.0000 - loss: 0.0015 - val_accuracy: 1.0000 - val_loss: 0.0028\n",
      "Epoch 27/50\n",
      "\u001b[1m50/50\u001b[0m \u001b[32m━━━━━━━━━━━━━━━━━━━━\u001b[0m\u001b[37m\u001b[0m \u001b[1m0s\u001b[0m 4ms/step - accuracy: 0.9992 - loss: 0.0035 - val_accuracy: 1.0000 - val_loss: 0.0022\n",
      "Epoch 28/50\n",
      "\u001b[1m50/50\u001b[0m \u001b[32m━━━━━━━━━━━━━━━━━━━━\u001b[0m\u001b[37m\u001b[0m \u001b[1m0s\u001b[0m 4ms/step - accuracy: 0.9995 - loss: 0.0018 - val_accuracy: 1.0000 - val_loss: 0.0016\n",
      "Epoch 29/50\n",
      "\u001b[1m50/50\u001b[0m \u001b[32m━━━━━━━━━━━━━━━━━━━━\u001b[0m\u001b[37m\u001b[0m \u001b[1m0s\u001b[0m 6ms/step - accuracy: 0.9995 - loss: 0.0015 - val_accuracy: 0.9975 - val_loss: 0.0073\n",
      "Epoch 30/50\n",
      "\u001b[1m50/50\u001b[0m \u001b[32m━━━━━━━━━━━━━━━━━━━━\u001b[0m\u001b[37m\u001b[0m \u001b[1m0s\u001b[0m 4ms/step - accuracy: 1.0000 - loss: 0.0029 - val_accuracy: 1.0000 - val_loss: 0.0019\n",
      "Epoch 31/50\n",
      "\u001b[1m50/50\u001b[0m \u001b[32m━━━━━━━━━━━━━━━━━━━━\u001b[0m\u001b[37m\u001b[0m \u001b[1m0s\u001b[0m 4ms/step - accuracy: 0.9998 - loss: 0.0013 - val_accuracy: 0.9975 - val_loss: 0.0060\n",
      "Epoch 32/50\n",
      "\u001b[1m50/50\u001b[0m \u001b[32m━━━━━━━━━━━━━━━━━━━━\u001b[0m\u001b[37m\u001b[0m \u001b[1m0s\u001b[0m 5ms/step - accuracy: 1.0000 - loss: 8.1431e-04 - val_accuracy: 1.0000 - val_loss: 0.0021\n",
      "Epoch 33/50\n",
      "\u001b[1m50/50\u001b[0m \u001b[32m━━━━━━━━━━━━━━━━━━━━\u001b[0m\u001b[37m\u001b[0m \u001b[1m0s\u001b[0m 4ms/step - accuracy: 0.9996 - loss: 0.0019 - val_accuracy: 0.9950 - val_loss: 0.0119\n",
      "Epoch 34/50\n",
      "\u001b[1m50/50\u001b[0m \u001b[32m━━━━━━━━━━━━━━━━━━━━\u001b[0m\u001b[37m\u001b[0m \u001b[1m0s\u001b[0m 5ms/step - accuracy: 0.9969 - loss: 0.0075 - val_accuracy: 1.0000 - val_loss: 0.0010\n",
      "Epoch 35/50\n",
      "\u001b[1m50/50\u001b[0m \u001b[32m━━━━━━━━━━━━━━━━━━━━\u001b[0m\u001b[37m\u001b[0m \u001b[1m0s\u001b[0m 4ms/step - accuracy: 1.0000 - loss: 0.0016 - val_accuracy: 1.0000 - val_loss: 6.3998e-04\n",
      "Epoch 36/50\n",
      "\u001b[1m50/50\u001b[0m \u001b[32m━━━━━━━━━━━━━━━━━━━━\u001b[0m\u001b[37m\u001b[0m \u001b[1m0s\u001b[0m 4ms/step - accuracy: 0.9988 - loss: 0.0021 - val_accuracy: 1.0000 - val_loss: 7.9539e-04\n",
      "Epoch 37/50\n",
      "\u001b[1m50/50\u001b[0m \u001b[32m━━━━━━━━━━━━━━━━━━━━\u001b[0m\u001b[37m\u001b[0m \u001b[1m0s\u001b[0m 4ms/step - accuracy: 1.0000 - loss: 5.5982e-04 - val_accuracy: 0.9975 - val_loss: 0.0036\n",
      "Epoch 38/50\n",
      "\u001b[1m50/50\u001b[0m \u001b[32m━━━━━━━━━━━━━━━━━━━━\u001b[0m\u001b[37m\u001b[0m \u001b[1m0s\u001b[0m 4ms/step - accuracy: 1.0000 - loss: 0.0014 - val_accuracy: 0.9975 - val_loss: 0.0036\n",
      "Epoch 39/50\n",
      "\u001b[1m50/50\u001b[0m \u001b[32m━━━━━━━━━━━━━━━━━━━━\u001b[0m\u001b[37m\u001b[0m \u001b[1m0s\u001b[0m 4ms/step - accuracy: 1.0000 - loss: 8.0838e-04 - val_accuracy: 1.0000 - val_loss: 8.1207e-04\n",
      "Epoch 40/50\n",
      "\u001b[1m50/50\u001b[0m \u001b[32m━━━━━━━━━━━━━━━━━━━━\u001b[0m\u001b[37m\u001b[0m \u001b[1m0s\u001b[0m 5ms/step - accuracy: 1.0000 - loss: 4.1691e-04 - val_accuracy: 1.0000 - val_loss: 8.8329e-04\n",
      "Epoch 41/50\n",
      "\u001b[1m50/50\u001b[0m \u001b[32m━━━━━━━━━━━━━━━━━━━━\u001b[0m\u001b[37m\u001b[0m \u001b[1m0s\u001b[0m 4ms/step - accuracy: 1.0000 - loss: 3.6868e-04 - val_accuracy: 1.0000 - val_loss: 7.6483e-04\n",
      "Epoch 42/50\n",
      "\u001b[1m50/50\u001b[0m \u001b[32m━━━━━━━━━━━━━━━━━━━━\u001b[0m\u001b[37m\u001b[0m \u001b[1m0s\u001b[0m 5ms/step - accuracy: 1.0000 - loss: 2.5747e-04 - val_accuracy: 1.0000 - val_loss: 4.6435e-04\n",
      "Epoch 43/50\n",
      "\u001b[1m50/50\u001b[0m \u001b[32m━━━━━━━━━━━━━━━━━━━━\u001b[0m\u001b[37m\u001b[0m \u001b[1m0s\u001b[0m 4ms/step - accuracy: 0.9998 - loss: 5.7417e-04 - val_accuracy: 1.0000 - val_loss: 0.0011\n",
      "Epoch 44/50\n",
      "\u001b[1m50/50\u001b[0m \u001b[32m━━━━━━━━━━━━━━━━━━━━\u001b[0m\u001b[37m\u001b[0m \u001b[1m0s\u001b[0m 4ms/step - accuracy: 0.9978 - loss: 0.0067 - val_accuracy: 0.9975 - val_loss: 0.0066\n",
      "Epoch 45/50\n",
      "\u001b[1m50/50\u001b[0m \u001b[32m━━━━━━━━━━━━━━━━━━━━\u001b[0m\u001b[37m\u001b[0m \u001b[1m0s\u001b[0m 4ms/step - accuracy: 0.9963 - loss: 0.0143 - val_accuracy: 1.0000 - val_loss: 5.1901e-04\n",
      "Epoch 46/50\n",
      "\u001b[1m50/50\u001b[0m \u001b[32m━━━━━━━━━━━━━━━━━━━━\u001b[0m\u001b[37m\u001b[0m \u001b[1m0s\u001b[0m 4ms/step - accuracy: 0.9999 - loss: 6.4001e-04 - val_accuracy: 1.0000 - val_loss: 7.4287e-04\n",
      "Epoch 47/50\n",
      "\u001b[1m50/50\u001b[0m \u001b[32m━━━━━━━━━━━━━━━━━━━━\u001b[0m\u001b[37m\u001b[0m \u001b[1m0s\u001b[0m 4ms/step - accuracy: 0.9985 - loss: 0.0036 - val_accuracy: 1.0000 - val_loss: 4.5501e-04\n",
      "Epoch 48/50\n",
      "\u001b[1m50/50\u001b[0m \u001b[32m━━━━━━━━━━━━━━━━━━━━\u001b[0m\u001b[37m\u001b[0m \u001b[1m0s\u001b[0m 7ms/step - accuracy: 1.0000 - loss: 4.7154e-04 - val_accuracy: 1.0000 - val_loss: 0.0011\n",
      "Epoch 49/50\n",
      "\u001b[1m50/50\u001b[0m \u001b[32m━━━━━━━━━━━━━━━━━━━━\u001b[0m\u001b[37m\u001b[0m \u001b[1m0s\u001b[0m 6ms/step - accuracy: 1.0000 - loss: 2.8319e-04 - val_accuracy: 1.0000 - val_loss: 3.9319e-04\n",
      "Epoch 50/50\n",
      "\u001b[1m50/50\u001b[0m \u001b[32m━━━━━━━━━━━━━━━━━━━━\u001b[0m\u001b[37m\u001b[0m \u001b[1m0s\u001b[0m 6ms/step - accuracy: 0.9990 - loss: 0.0026 - val_accuracy: 0.9950 - val_loss: 0.0149\n",
      "\u001b[1m13/13\u001b[0m \u001b[32m━━━━━━━━━━━━━━━━━━━━\u001b[0m\u001b[37m\u001b[0m \u001b[1m0s\u001b[0m 3ms/step - accuracy: 0.9973 - loss: 0.0085 \n",
      "Precisión en el conjunto de prueba: 99.50%\n"
     ]
    }
   ],
   "source": [
    "# Entrenar el modelo\n",
    "model.fit(X_train, y_train, epochs=50, batch_size=32, validation_data=(X_test, y_test))\n",
    "\n",
    "# Evaluar el modelo en el conjunto de prueba\n",
    "loss, accuracy = model.evaluate(X_test, y_test)\n",
    "print(f\"Precisión en el conjunto de prueba: {accuracy*100:.2f}%\")"
   ]
  },
  {
   "cell_type": "code",
   "execution_count": 72,
   "metadata": {},
   "outputs": [
    {
     "name": "stdout",
     "output_type": "stream",
     "text": [
      "\u001b[1m13/13\u001b[0m \u001b[32m━━━━━━━━━━━━━━━━━━━━\u001b[0m\u001b[37m\u001b[0m \u001b[1m0s\u001b[0m 13ms/step\n",
      "[2 3 1 0 1 1 3 3 3 2 0 2 2 1 0 1 1 3 1 0 2 0 3 3 3 0 0 2 3 2 2 0 2 0 2 1 2\n",
      " 0 2 3 3 2 2 3 3 0 2 3 3 2 0 3 2 1 2 0 3 0 2 1 3 1 2 2 3 0 2 2 3 2 2 1 0 0\n",
      " 0 1 1 3 2 1 0 1 1 1 1 0 3 2 1 2 1 3 3 1 2 3 0 3 0 3 3 1 2 0 2 0 1 3 0 1 1\n",
      " 1 2 2 2 2 0 1 2 3 3 0 3 0 0 1 2 2 1 3 3 1 1 2 2 0 0 3 3 0 1 1 2 3 0 2 3 1\n",
      " 3 3 0 1 2 0 3 0 3 0 2 2 1 3 1 2 1 2 2 2 1 3 2 2 0 1 0 1 1 0 3 3 3 3 0 0 1\n",
      " 1 2 0 2 0 2 3 3 3 2 3 0 1 1 0 1 1 0 0 0 1 0 2 1 2 0 0 1 2 0 3 0 2 0 2 0 3\n",
      " 1 3 0 2 2 2 3 3 1 3 0 2 0 3 2 1 0 3 1 3 1 0 3 3 3 3 3 3 0 2 0 0 1 2 3 0 3\n",
      " 0 0 0 1 3 0 0 1 1 2 3 3 3 1 1 3 0 3 1 3 0 3 0 3 0 0 0 2 2 1 2 1 3 0 1 2 3\n",
      " 2 0 3 2 1 1 1 0 1 0 2 0 3 1 2 1 3 3 0 3 0 1 0 0 2 0 3 2 1 0 0 1 1 3 1 3 2\n",
      " 0 3 0 2 2 0 2 3 3 1 3 2 2 0 1 2 3 0 0 3 1 2 3 0 0 1 0 1 0 3 0 3 0 3 2 0 1\n",
      " 1 1 2 3 2 3 2 1 1 3 1 2 0 2 1 3 3 3 2 1 1 3 3 1 0 1 3 0]\n"
     ]
    }
   ],
   "source": [
    "# Hacer una predicción con datos de entrada nuevos\n",
    "predictions = model.predict(X_test)\n",
    "\n",
    "# Convertir las predicciones de vuelta a la clase (el índice con la mayor probabilidad)\n",
    "predicted_classes = np.argmax(predictions, axis=1)\n",
    "print(predicted_classes)"
   ]
  },
  {
   "cell_type": "code",
   "execution_count": 73,
   "metadata": {},
   "outputs": [
    {
     "name": "stdout",
     "output_type": "stream",
     "text": [
      "13/13 - 0s - 9ms/step - accuracy: 0.9950 - loss: 0.0149\n",
      "Pérdida en el conjunto de testeo: 0.0149\n",
      "Precisión en el conjunto de testeo: 0.9950\n"
     ]
    }
   ],
   "source": [
    "# Evaluar en el conjunto de testeo\n",
    "test_loss, test_accuracy = model.evaluate(X_test, y_test, verbose=2)\n",
    "\n",
    "print(f\"Pérdida en el conjunto de testeo: {test_loss:.4f}\")\n",
    "print(f\"Precisión en el conjunto de testeo: {test_accuracy:.4f}\")\n"
   ]
  },
  {
   "cell_type": "code",
   "execution_count": 74,
   "metadata": {},
   "outputs": [
    {
     "name": "stdout",
     "output_type": "stream",
     "text": [
      "\u001b[1m13/13\u001b[0m \u001b[32m━━━━━━━━━━━━━━━━━━━━\u001b[0m\u001b[37m\u001b[0m \u001b[1m0s\u001b[0m 5ms/step \n",
      "Etiquetas reales: [[0. 0. 1. 0.]\n",
      " [0. 0. 0. 1.]\n",
      " [0. 1. 0. 0.]\n",
      " ...\n",
      " [0. 1. 0. 0.]\n",
      " [0. 0. 0. 1.]\n",
      " [1. 0. 0. 0.]]\n",
      "Predicciones: [2 3 1 0 1 1 3 3 3 2 0 2 2 1 0 1 1 3 1 0 2 0 3 3 3 0 0 2 3 2 2 0 2 0 2 1 2\n",
      " 0 2 3 3 2 2 3 3 0 2 3 3 2 0 3 2 1 2 0 3 0 2 1 3 1 2 2 3 0 2 2 3 2 2 1 0 0\n",
      " 0 1 1 3 2 1 0 1 1 1 1 0 3 2 1 2 1 3 3 1 2 3 0 3 0 3 3 1 2 0 2 0 1 3 0 1 1\n",
      " 1 2 2 2 2 0 1 2 3 3 0 3 0 0 1 2 2 1 3 3 1 1 2 2 0 0 3 3 0 1 1 2 3 0 2 3 1\n",
      " 3 3 0 1 2 0 3 0 3 0 2 2 1 3 1 2 1 2 2 2 1 3 2 2 0 1 0 1 1 0 3 3 3 3 0 0 1\n",
      " 1 2 0 2 0 2 3 3 3 2 3 0 1 1 0 1 1 0 0 0 1 0 2 1 2 0 0 1 2 0 3 0 2 0 2 0 3\n",
      " 1 3 0 2 2 2 3 3 1 3 0 2 0 3 2 1 0 3 1 3 1 0 3 3 3 3 3 3 0 2 0 0 1 2 3 0 3\n",
      " 0 0 0 1 3 0 0 1 1 2 3 3 3 1 1 3 0 3 1 3 0 3 0 3 0 0 0 2 2 1 2 1 3 0 1 2 3\n",
      " 2 0 3 2 1 1 1 0 1 0 2 0 3 1 2 1 3 3 0 3 0 1 0 0 2 0 3 2 1 0 0 1 1 3 1 3 2\n",
      " 0 3 0 2 2 0 2 3 3 1 3 2 2 0 1 2 3 0 0 3 1 2 3 0 0 1 0 1 0 3 0 3 0 3 2 0 1\n",
      " 1 1 2 3 2 3 2 1 1 3 1 2 0 2 1 3 3 3 2 1 1 3 3 1 0 1 3 0]\n"
     ]
    }
   ],
   "source": [
    "# Generar predicciones\n",
    "predicciones = model.predict(X_test)\n",
    "\n",
    "# Si es clasificación, convertir las probabilidades a etiquetas\n",
    "y_pred = np.argmax(predicciones, axis=1)\n",
    "# Comparar con las etiquetas reales\n",
    "print(\"Etiquetas reales:\", y_test)\n",
    "print(\"Predicciones:\", y_pred)"
   ]
  },
  {
   "cell_type": "code",
   "execution_count": 75,
   "metadata": {},
   "outputs": [
    {
     "name": "stdout",
     "output_type": "stream",
     "text": [
      "\u001b[1m13/13\u001b[0m \u001b[32m━━━━━━━━━━━━━━━━━━━━\u001b[0m\u001b[37m\u001b[0m \u001b[1m0s\u001b[0m 6ms/step \n",
      "[2 3 1 0 1 1 3 3 3 2 0 2 2 1 0 1 1 3 1 0 2 0 3 3 3 0 0 2 3 2 2 0 2 0 2 1 2\n",
      " 0 2 3 3 2 2 3 3 0 2 3 3 2 0 3 2 1 2 0 3 0 2 1 3 1 2 2 3 0 2 2 3 2 2 1 0 0\n",
      " 0 1 1 3 2 1 0 1 1 1 1 0 3 2 1 2 1 3 3 1 2 3 0 3 0 3 3 1 2 0 2 0 1 3 0 1 1\n",
      " 1 2 2 2 2 0 1 2 3 3 0 3 0 0 1 2 2 1 3 3 1 1 2 2 0 0 3 3 0 1 1 2 3 0 2 3 1\n",
      " 3 3 0 1 2 0 3 0 3 0 2 2 1 3 1 2 1 2 2 2 1 3 2 2 0 1 0 1 1 0 3 3 3 3 0 0 1\n",
      " 1 2 0 2 0 2 3 3 3 2 3 0 1 1 0 1 1 0 0 0 1 0 2 1 2 0 0 1 2 0 3 0 2 0 2 0 3\n",
      " 1 3 0 2 2 2 3 3 1 3 0 2 0 3 2 1 0 3 1 3 1 0 3 3 3 3 3 3 0 2 0 0 1 2 3 0 3\n",
      " 0 0 0 1 3 0 0 1 1 2 3 3 3 1 1 3 0 3 1 3 0 3 0 3 0 0 0 2 2 1 2 1 3 0 1 2 3\n",
      " 2 0 3 2 1 1 1 0 1 0 2 0 3 1 2 1 3 3 0 3 0 1 0 0 2 0 3 2 1 0 0 1 1 3 1 3 2\n",
      " 0 3 0 2 2 0 2 3 3 1 3 2 2 0 1 2 3 0 0 3 1 2 3 0 0 1 0 1 0 3 0 3 0 3 2 0 1\n",
      " 1 1 2 3 2 3 2 1 1 3 1 2 0 2 1 3 3 3 2 1 1 3 3 1 0 1 3 0]\n",
      "[2 3 1 0 1 1 3 3 3 2 0 2 2 1 0 1 1 3 1 0 2 0 3 3 3 0 0 2 3 2 2 0 2 0 2 1 2\n",
      " 0 2 3 3 2 2 3 3 0 2 3 3 2 0 3 2 1 2 0 3 0 2 1 3 1 2 2 3 0 2 2 3 2 2 1 0 0\n",
      " 0 1 1 3 2 1 0 1 1 1 1 0 3 2 1 2 1 3 3 1 2 3 0 3 0 3 3 1 2 0 2 0 1 3 0 1 1\n",
      " 1 2 2 2 2 0 1 2 3 3 0 3 0 0 1 2 2 1 3 3 1 1 2 2 0 0 3 3 0 1 1 2 3 0 2 3 1\n",
      " 3 3 0 1 2 0 3 0 3 0 2 2 1 3 1 2 1 2 2 2 1 3 2 2 0 1 0 1 1 0 3 3 3 3 0 0 1\n",
      " 1 2 0 2 0 2 3 3 3 2 3 0 1 1 0 1 1 0 0 0 1 0 2 1 2 0 0 1 2 0 3 0 2 0 2 0 3\n",
      " 1 3 0 2 2 2 3 3 1 3 0 2 0 3 2 1 0 3 1 2 1 0 3 3 3 3 3 3 0 2 0 0 1 2 3 0 3\n",
      " 0 0 0 1 3 0 0 1 1 2 3 3 3 1 1 3 0 3 1 2 0 3 0 3 0 0 0 2 2 1 2 1 3 0 1 2 3\n",
      " 2 0 3 2 1 1 1 0 1 0 2 0 3 1 2 1 3 3 0 3 0 1 0 0 2 0 3 2 1 0 0 1 1 3 1 3 2\n",
      " 0 3 0 2 2 0 2 3 3 1 3 2 2 0 1 2 3 0 0 3 1 2 3 0 0 1 0 1 0 3 0 3 0 3 2 0 1\n",
      " 1 1 2 3 2 3 2 1 1 3 1 2 0 2 1 3 3 3 2 1 1 3 3 1 0 1 3 0]\n",
      "              precision    recall  f1-score   support\n",
      "\n",
      "           0       1.00      1.00      1.00       104\n",
      "           1       1.00      1.00      1.00        94\n",
      "           2       1.00      0.98      0.99        95\n",
      "           3       0.98      1.00      0.99       105\n",
      "\n",
      "    accuracy                           0.99       398\n",
      "   macro avg       1.00      0.99      0.99       398\n",
      "weighted avg       1.00      0.99      0.99       398\n",
      "\n",
      "Matriz de confusión:\n"
     ]
    }
   ],
   "source": [
    "\n",
    "\n",
    "\n",
    "# Predicciones\n",
    "y_pred = np.argmax(model.predict(X_test), axis=1)\n",
    "print(y_pred)  # Debería ser (n_samples, 4)\n",
    "y_test=np.argmax(y_test, axis=1)\n",
    "print(y_test)\n",
    "\n",
    "\n",
    "# Reporte y matriz de confusión\n",
    "print(classification_report(y_test, y_pred))\n",
    "print(\"Matriz de confusión:\")\n",
    "cm=confusion_matrix(y_test, y_pred)\n",
    "\n"
   ]
  },
  {
   "cell_type": "code",
   "execution_count": 76,
   "metadata": {},
   "outputs": [
    {
     "data": {
      "image/png": "[encoded data removed]",
      "text/plain": [
       "<Figure size 800x600 with 2 Axes>"
      ]
     },
     "metadata": {},
     "output_type": "display_data"
    }
   ],
   "source": [
    "# Graficar la matriz de confusión\n",
    "plt.figure(figsize=(8, 6))\n",
    "sns.heatmap(cm, annot=True, fmt='d', cmap='Blues', xticklabels=range(4), yticklabels=range(4))\n",
    "plt.xlabel(\"Predicción\")\n",
    "plt.ylabel(\"Etiqueta real\")\n",
    "plt.title(\"Matriz de Confusión\")\n",
    "plt.show()\n"
   ]
  },
  {
   "cell_type": "code",
   "execution_count": 77,
   "metadata": {},
   "outputs": [],
   "source": [
    "# Guardar el modelo completo en un archivo H5\n",
    "model.save('modelo_completo.keras')\n",
    "\n",
    "# Guardar solo los pesos\n",
    "model.save_weights('model_weights.weights.h5')\n"
   ]
  },
  {
   "cell_type": "code",
   "execution_count": null,
   "metadata": {},
   "outputs": [],
   "source": []
  },
  {
   "cell_type": "code",
   "execution_count": null,
   "metadata": {},
   "outputs": [],
   "source": []
  }
 ],
 "metadata": {
  "kernelspec": {
   "display_name": "my_env",
   "language": "python",
   "name": "python3"
  },
  "language_info": {
   "codemirror_mode": {
    "name": "ipython",
    "version": 3
   },
   "file_extension": ".py",
   "mimetype": "text/x-python",
   "name": "python",
   "nbconvert_exporter": "python",
   "pygments_lexer": "ipython3",
   "version": "3.11.11"
  }
 },
 "nbformat": 4,
 "nbformat_minor": 2
}
